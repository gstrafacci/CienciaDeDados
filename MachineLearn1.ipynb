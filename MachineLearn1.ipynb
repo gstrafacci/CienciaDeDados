{
  "nbformat": 4,
  "nbformat_minor": 0,
  "metadata": {
    "colab": {
      "name": "MachineLearn1.ipynb",
      "provenance": [],
      "authorship_tag": "ABX9TyMHSR9bq/xbvrIKRnSRoO4G",
      "include_colab_link": true
    },
    "kernelspec": {
      "name": "python3",
      "display_name": "Python 3"
    }
  },
  "cells": [
    {
      "cell_type": "markdown",
      "metadata": {
        "id": "view-in-github",
        "colab_type": "text"
      },
      "source": [
        "<a href=\"https://colab.research.google.com/github/gstrafacci/UPA/blob/main/MachineLearn1.ipynb\" target=\"_parent\"><img src=\"https://colab.research.google.com/assets/colab-badge.svg\" alt=\"Open In Colab\"/></a>"
      ]
    },
    {
      "cell_type": "code",
      "metadata": {
        "colab": {
          "base_uri": "https://localhost:8080/"
        },
        "id": "vQC9v8A3CqeK",
        "outputId": "2893ad7d-88c1-47f8-bec7-734703349302"
      },
      "source": [
        "#LEADQUENTE\n",
        "# Participou de Evento\n",
        "# Possui Demanda Específica\n",
        "# Possui Orçamento\n",
        "# Possui Área de Processos\n",
        "# Faturamento Acima de R$50MM ou >1000 funcionários\n",
        "\n",
        "import numpy as np\n",
        "import matplotlib.pyplot as plt\n",
        "from matplotlib import style\n",
        "style.use(\"ggplot\")\n",
        "\n",
        "clienteforte1 = [1,1,1,1,1]\n",
        "clienteforte2 = [1,1,0,1,1]\n",
        "clienteforte3 = [0,1,1,1,1]\n",
        "\n",
        "clientefraco1 = [0,0,0,0,0]\n",
        "clientefraco2 = [1,0,0,1,0]\n",
        "clientefraco3 = [1,1,0,1,0]\n",
        "\n",
        "treino_x = [clienteforte1,clienteforte2,clienteforte3,clientefraco1,clientefraco2,clientefraco3]\n",
        "treino_y = [1,1,1,0,0,0]\n",
        "\n",
        "from sklearn.svm import LinearSVC\n",
        "modelo = LinearSVC()\n",
        "modelo.fit(treino_x, treino_y)"
      ],
      "execution_count": null,
      "outputs": [
        {
          "output_type": "execute_result",
          "data": {
            "text/plain": [
              "LinearSVC(C=1.0, class_weight=None, dual=True, fit_intercept=True,\n",
              "          intercept_scaling=1, loss='squared_hinge', max_iter=1000,\n",
              "          multi_class='ovr', penalty='l2', random_state=None, tol=0.0001,\n",
              "          verbose=0)"
            ]
          },
          "metadata": {
            "tags": []
          },
          "execution_count": 10
        }
      ]
    },
    {
      "cell_type": "code",
      "metadata": {
        "colab": {
          "base_uri": "https://localhost:8080/"
        },
        "id": "qTYah_Pc_J0B",
        "outputId": "1f0708f2-d285-483e-b06e-ae0022e77c55"
      },
      "source": [
        "#1 Cliente Forte\n",
        "#0 Cliente Fraco\n",
        "\n",
        "#LEADQUENTE\n",
        "# Participou de Evento\n",
        "# Possui Demanda Específica\n",
        "# Possui Orçamento\n",
        "# Possui Área de Processos\n",
        "# Faturamento Acima de R$50MM ou >1000 funcionários\n",
        "\n",
        "clientenovo1 = [1,0,0,1,1]\n",
        "clientenovo2 = [0,0,1,1,1]\n",
        "clientenovo3 = [0,1,1,0,0]\n",
        "clientenovo4 = [0,1,1,0,1]\n",
        "clientenovo5 = [0,1,1,1,0]\n",
        "\n",
        "teste_y = [1,1,0,1,1]\n",
        "teste_x = [clientenovo1, clientenovo2, clientenovo3, clientenovo4, clientenovo5]\n",
        "previsoes = modelo.predict(teste_x)\n",
        "previsoes\n"
      ],
      "execution_count": null,
      "outputs": [
        {
          "output_type": "execute_result",
          "data": {
            "text/plain": [
              "array([1, 1, 0, 1, 0])"
            ]
          },
          "metadata": {
            "tags": []
          },
          "execution_count": 34
        }
      ]
    },
    {
      "cell_type": "code",
      "metadata": {
        "id": "btvTq2PLGy_R"
      },
      "source": [
        ""
      ],
      "execution_count": null,
      "outputs": []
    },
    {
      "cell_type": "code",
      "metadata": {
        "colab": {
          "base_uri": "https://localhost:8080/"
        },
        "id": "QthXwXtTF1zJ",
        "outputId": "46db0581-43e2-4572-94d7-bb56c55c1f63"
      },
      "source": [
        "from sklearn.metrics import accuracy_score\n",
        "accuracy_score (teste_y, previsoes)"
      ],
      "execution_count": null,
      "outputs": [
        {
          "output_type": "execute_result",
          "data": {
            "text/plain": [
              "0.8"
            ]
          },
          "metadata": {
            "tags": []
          },
          "execution_count": 35
        }
      ]
    },
    {
      "cell_type": "code",
      "metadata": {
        "colab": {
          "base_uri": "https://localhost:8080/",
          "height": 265
        },
        "id": "iv6IJzkBAAo5",
        "outputId": "7c690d0d-79a6-4c3c-88a7-26d4e5dc49f6"
      },
      "source": [
        "x = [1, 5, 1.5, 8, 1, 9]\n",
        "y = [2, 8, 1.8, 8, 0.6, 11]\n",
        "plt.scatter(x,y)\n",
        "plt.show()"
      ],
      "execution_count": null,
      "outputs": [
        {
          "output_type": "display_data",
          "data": {
            "image/png": "[encoded data removed]",
            "text/plain": [
              "<Figure size 432x288 with 1 Axes>"
            ]
          },
          "metadata": {
            "tags": []
          }
        }
      ]
    },
    {
      "cell_type": "code",
      "metadata": {
        "colab": {
          "base_uri": "https://localhost:8080/"
        },
        "id": "n_Ocuix0A1dF",
        "outputId": "c5404407-ccd5-4da1-c0a3-bec7a8320d75"
      },
      "source": [
        "from sklearn import svm\n",
        "x_treino = np.array([[1,2],\n",
        "             [5,8],\n",
        "             [1.5,1.8],\n",
        "             [8,8],\n",
        "             [1,0.6],\n",
        "             [9,11]])\n",
        "y_treino = [0,1,0,1,0,1]\n",
        "clf = svm.SVC(kernel='linear', C = 1.0)\n",
        "clf.fit(x_treino, y_treino)"
      ],
      "execution_count": null,
      "outputs": [
        {
          "output_type": "execute_result",
          "data": {
            "text/plain": [
              "SVC(C=1.0, break_ties=False, cache_size=200, class_weight=None, coef0=0.0,\n",
              "    decision_function_shape='ovr', degree=3, gamma='scale', kernel='linear',\n",
              "    max_iter=-1, probability=False, random_state=None, shrinking=True,\n",
              "    tol=0.001, verbose=False)"
            ]
          },
          "metadata": {
            "tags": []
          },
          "execution_count": 15
        }
      ]
    },
    {
      "cell_type": "code",
      "metadata": {
        "colab": {
          "base_uri": "https://localhost:8080/"
        },
        "id": "lkaKA14BCOBE",
        "outputId": "0b91d8b0-ace0-4d73-9c56-937017e7d6d6"
      },
      "source": [
        "novoponto = [1,2]\n",
        "clf.predict([novoponto])\n"
      ],
      "execution_count": null,
      "outputs": [
        {
          "output_type": "execute_result",
          "data": {
            "text/plain": [
              "array([0])"
            ]
          },
          "metadata": {
            "tags": []
          },
          "execution_count": 21
        }
      ]
    },
    {
      "cell_type": "code",
      "metadata": {
        "colab": {
          "base_uri": "https://localhost:8080/",
          "height": 282
        },
        "id": "UULuGUCwDAoU",
        "outputId": "5e6c0e96-302f-4015-9e69-a1e82ddda239"
      },
      "source": [
        "w = clf.coef_[0]\n",
        "print(w)\n",
        "\n",
        "a = -w[0] / w[1]\n",
        "xx = np.linspace(0,12)\n",
        "yy = a * xx - clf.intercept_[0] / w[1]\n",
        "\n",
        "h0 = plt.plot(xx, yy, 'k-', label=\"non weighted div\")\n",
        "\n",
        "plt.scatter(x_treino[:, 0], x_treino[:, 1], c = y_treino)\n",
        "plt.legend()\n",
        "plt.show()"
      ],
      "execution_count": null,
      "outputs": [
        {
          "output_type": "stream",
          "text": [
            "[0.1380943  0.24462418]\n"
          ],
          "name": "stdout"
        },
        {
          "output_type": "display_data",
          "data": {
            "image/png": "[encoded data removed]",
            "text/plain": [
              "<Figure size 432x288 with 1 Axes>"
            ]
          },
          "metadata": {
            "tags": []
          }
        }
      ]
    },
    {
      "cell_type": "code",
      "metadata": {
        "id": "WgpfpQ7xDD0p"
      },
      "source": [
        ""
      ],
      "execution_count": null,
      "outputs": []
    },
    {
      "cell_type": "code",
      "metadata": {
        "id": "rtIPs3iDCmo8"
      },
      "source": [
        ""
      ],
      "execution_count": null,
      "outputs": []
    },
    {
      "cell_type": "code",
      "metadata": {
        "id": "1o2svQBnCj59"
      },
      "source": [
        ""
      ],
      "execution_count": null,
      "outputs": []
    },
    {
      "cell_type": "code",
      "metadata": {
        "id": "MNe_zPatCb2n"
      },
      "source": [
        ""
      ],
      "execution_count": null,
      "outputs": []
    },
    {
      "cell_type": "code",
      "metadata": {
        "id": "EyUi_47sCV_Q"
      },
      "source": [
        ""
      ],
      "execution_count": null,
      "outputs": []
    },
    {
      "cell_type": "code",
      "metadata": {
        "id": "0QYYIH4mCTBP"
      },
      "source": [
        ""
      ],
      "execution_count": null,
      "outputs": []
    },
    {
      "cell_type": "code",
      "metadata": {
        "id": "4_Otm-onBuze"
      },
      "source": [
        ""
      ],
      "execution_count": null,
      "outputs": []
    },
    {
      "cell_type": "code",
      "metadata": {
        "id": "KsKmkWS_BlMm"
      },
      "source": [
        ""
      ],
      "execution_count": null,
      "outputs": []
    },
    {
      "cell_type": "code",
      "metadata": {
        "id": "zohq_zXNBcMN"
      },
      "source": [
        ""
      ],
      "execution_count": null,
      "outputs": []
    },
    {
      "cell_type": "code",
      "metadata": {
        "id": "JYZD_gKA_BEC"
      },
      "source": [
        ""
      ],
      "execution_count": null,
      "outputs": []
    },
    {
      "cell_type": "code",
      "metadata": {
        "id": "-bgQf_nk93_f"
      },
      "source": [
        ""
      ],
      "execution_count": null,
      "outputs": []
    },
    {
      "cell_type": "code",
      "metadata": {
        "id": "6U8-HNSe9i31"
      },
      "source": [
        ""
      ],
      "execution_count": null,
      "outputs": []
    },
    {
      "cell_type": "code",
      "metadata": {
        "id": "IjQAB9qX9fUR"
      },
      "source": [
        ""
      ],
      "execution_count": null,
      "outputs": []
    }
  ]
}