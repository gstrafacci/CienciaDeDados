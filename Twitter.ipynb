{
  "nbformat": 4,
  "nbformat_minor": 0,
  "metadata": {
    "colab": {
      "name": "Twitter.ipynb",
      "provenance": [],
      "authorship_tag": "ABX9TyNWAJ1nLJ4XG6lb+A2Z3KMr",
      "include_colab_link": true
    },
    "kernelspec": {
      "name": "python3",
      "display_name": "Python 3"
    }
  },
  "cells": [
    {
      "cell_type": "markdown",
      "metadata": {
        "id": "view-in-github",
        "colab_type": "text"
      },
      "source": [
        "<a href=\"https://colab.research.google.com/github/gstrafacci/UPA/blob/main/Twitter.ipynb\" target=\"_parent\"><img src=\"https://colab.research.google.com/assets/colab-badge.svg\" alt=\"Open In Colab\"/></a>"
      ]
    },
    {
      "cell_type": "code",
      "metadata": {
        "id": "NhAeIW7uYSAp"
      },
      "source": [
        "from tweepy import OAuthHandler\n",
        "from tweepy.streaming import StreamListener\n",
        "import tweepy\n",
        "import json\n",
        "import pandas as pd\n",
        "import csv\n",
        "import re\n",
        "from textblob import TextBlob\n",
        "import string\n",
        "import os\n",
        "import time"
      ],
      "execution_count": null,
      "outputs": []
    },
    {
      "cell_type": "code",
      "metadata": {
        "colab": {
          "base_uri": "https://localhost:8080/"
        },
        "id": "WRGlQTEvX_nO",
        "outputId": "15a16d50-5567-4714-a8f4-fee23ca49a65"
      },
      "source": [
        "# Twitter credentials\n",
        "# Obtain them from your twitter developer account\n",
        "consumer_key = input('Consumer Key '),\n",
        "consumer_secret = input('Consumer Secret ')\n",
        "access_key = input('Access Token ')\n",
        "access_secret = input('Access Token Secret ')\n",
        "\n",
        "# Pass your twitter credentials to tweepy via its OAuthHandler\n",
        "auth = OAuthHandler(consumer_key, consumer_secret)\n",
        "auth.set_access_token(access_key, access_secret)\n",
        "api = tweepy.API(auth)\n",
        "\n",
        "#Consumer Key 2JMys9PL9DJ5kYEDwk2kn7yit\n",
        "#Consumer Secret 4DsF9rbrmnpMdtaYR1tzuWJiaXkVDKDoKuy7gSS9QXTsHjpNnW\n",
        "#Access Token 39318256-JF9uOOI9bsNm0vTOOVyn5m07ixbQcu8YfHtKcdkEE\n",
        "#Access Token Secret 9vZGUHQLTexCvWHUGPRB22As6gzbcrY1rIQFvk4jyCc49"
      ],
      "execution_count": null,
      "outputs": [
        {
          "output_type": "stream",
          "text": [
            "Consumer Key 2JMys9PL9DJ5kYEDwk2kn7yit\n",
            "Consumer Secret 4DsF9rbrmnpMdtaYR1tzuWJiaXkVDKDoKuy7gSS9QXTsHjpNnW\n",
            "Access Token 39318256-JF9uOOI9bsNm0vTOOVyn5m07ixbQcu8YfHtKcdkEE\n",
            "Access Token Secret 9vZGUHQLTexCvWHUGPRB22As6gzbcrY1rIQFvk4jyCc49\n"
          ],
          "name": "stdout"
        }
      ]
    },
    {
      "cell_type": "code",
      "metadata": {
        "id": "tBHbOC6B_38z"
      },
      "source": [
        "def on_status(self, status):\n",
        "    if hasattr(status, \"retweeted_status\"):  # Check if Retweet\n",
        "        try:\n",
        "            print(status.retweeted_status.extended_tweet[\"full_text\"])\n",
        "        except AttributeError:\n",
        "            print(status.retweeted_status.text)\n",
        "    else:\n",
        "        try:\n",
        "            print(status.extended_tweet[\"full_text\"])\n",
        "        except AttributeError:\n",
        "            print(status.text)"
      ],
      "execution_count": null,
      "outputs": []
    },
    {
      "cell_type": "code",
      "metadata": {
        "id": "ZGAIRBXyAJvC",
        "colab": {
          "base_uri": "https://localhost:8080/",
          "height": 212
        },
        "outputId": "58856cc6-98d5-4665-c4da-96a555c31654"
      },
      "source": [
        "try:\n",
        "    print(status.retweeted_status.full_text)\n",
        "except AttributeError:  # Not a Retweet\n",
        "    print(status.full_text)"
      ],
      "execution_count": null,
      "outputs": [
        {
          "output_type": "error",
          "ename": "NameError",
          "evalue": "ignored",
          "traceback": [
            "\u001b[0;31m---------------------------------------------------------------------------\u001b[0m",
            "\u001b[0;31mNameError\u001b[0m                                 Traceback (most recent call last)",
            "\u001b[0;32m<ipython-input-22-a0fec402b49d>\u001b[0m in \u001b[0;36m<module>\u001b[0;34m()\u001b[0m\n\u001b[1;32m      1\u001b[0m \u001b[0;32mtry\u001b[0m\u001b[0;34m:\u001b[0m\u001b[0;34m\u001b[0m\u001b[0;34m\u001b[0m\u001b[0m\n\u001b[0;32m----> 2\u001b[0;31m     \u001b[0mprint\u001b[0m\u001b[0;34m(\u001b[0m\u001b[0mstatus\u001b[0m\u001b[0;34m.\u001b[0m\u001b[0mretweeted_status\u001b[0m\u001b[0;34m.\u001b[0m\u001b[0mfull_text\u001b[0m\u001b[0;34m)\u001b[0m\u001b[0;34m\u001b[0m\u001b[0;34m\u001b[0m\u001b[0m\n\u001b[0m\u001b[1;32m      3\u001b[0m \u001b[0;32mexcept\u001b[0m \u001b[0mAttributeError\u001b[0m\u001b[0;34m:\u001b[0m  \u001b[0;31m# Not a Retweet\u001b[0m\u001b[0;34m\u001b[0m\u001b[0;34m\u001b[0m\u001b[0m\n\u001b[1;32m      4\u001b[0m     \u001b[0mprint\u001b[0m\u001b[0;34m(\u001b[0m\u001b[0mstatus\u001b[0m\u001b[0;34m.\u001b[0m\u001b[0mfull_text\u001b[0m\u001b[0;34m)\u001b[0m\u001b[0;34m\u001b[0m\u001b[0;34m\u001b[0m\u001b[0m\n",
            "\u001b[0;31mNameError\u001b[0m: name 'status' is not defined"
          ]
        }
      ]
    }
  ]
}