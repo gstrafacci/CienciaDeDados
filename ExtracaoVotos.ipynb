{
  "nbformat": 4,
  "nbformat_minor": 0,
  "metadata": {
    "colab": {
      "provenance": [],
      "authorship_tag": "ABX9TyMxbDXRkHQAdhcrW+MeKg/f",
      "include_colab_link": true
    },
    "kernelspec": {
      "name": "python3",
      "display_name": "Python 3"
    },
    "language_info": {
      "name": "python"
    }
  },
  "cells": [
    {
      "cell_type": "markdown",
      "metadata": {
        "id": "view-in-github",
        "colab_type": "text"
      },
      "source": [
        "<a href=\"https://colab.research.google.com/github/gstrafacci/CienciaDeDados/blob/main/ExtracaoVotos.ipynb\" target=\"_parent\"><img src=\"https://colab.research.google.com/assets/colab-badge.svg\" alt=\"Open In Colab\"/></a>"
      ]
    },
    {
      "cell_type": "code",
      "execution_count": 1,
      "metadata": {
        "id": "l3TT6-WEyExf"
      },
      "outputs": [],
      "source": [
        "import requests"
      ]
    },
    {
      "cell_type": "code",
      "source": [
        "import json"
      ],
      "metadata": {
        "id": "YvPB38ceyHCQ"
      },
      "execution_count": 2,
      "outputs": []
    },
    {
      "cell_type": "code",
      "source": [
        "import pandas as pd"
      ],
      "metadata": {
        "id": "drKXovbCyITX"
      },
      "execution_count": 3,
      "outputs": []
    },
    {
      "cell_type": "code",
      "source": [
        "data = requests.get('https://resultados.tse.jus.br/oficial/ele2022/544/dados-simplificados/br/br-c0001-e000544-r.json')\n"
      ],
      "metadata": {
        "id": "NhLyfj1pyKXr"
      },
      "execution_count": 4,
      "outputs": []
    },
    {
      "cell_type": "code",
      "source": [
        "json_data = json.loads(data.content)"
      ],
      "metadata": {
        "id": "PtUNU01Gyvkx"
      },
      "execution_count": 5,
      "outputs": []
    },
    {
      "cell_type": "code",
      "source": [
        "candidato = []"
      ],
      "metadata": {
        "id": "4zicY368ywLQ"
      },
      "execution_count": 6,
      "outputs": []
    },
    {
      "cell_type": "code",
      "source": [
        "partido =[]"
      ],
      "metadata": {
        "id": "YpqUPEtay0og"
      },
      "execution_count": 7,
      "outputs": []
    },
    {
      "cell_type": "code",
      "source": [
        "votos = []"
      ],
      "metadata": {
        "id": "eVqLe7h5y4Gx"
      },
      "execution_count": 8,
      "outputs": []
    },
    {
      "cell_type": "code",
      "source": [
        "porcentagem = []"
      ],
      "metadata": {
        "id": "ZzuHJemgy6qa"
      },
      "execution_count": 9,
      "outputs": []
    },
    {
      "cell_type": "code",
      "source": [
        "for informacoes in json_data['cand']:\n",
        "  if informacoes['seq'] == '2' or informacoes['seq']=='3' or informacoes['seq']=='4' or informacoes['seq']=='7':\n",
        "    candidato.append(informacoes['nm'])\n",
        "    votos.append(informacoes['vap'])\n",
        "    porcentagem.append(informacoes['pvap'])"
      ],
      "metadata": {
        "id": "c_tErhG0y8ik"
      },
      "execution_count": 10,
      "outputs": []
    },
    {
      "cell_type": "code",
      "source": [
        "df_eleicao = pd.DataFrame(list(zip(candidato, votos, porcentagem)), columns =['Candidato', 'N Votos', 'Porcentagem'])"
      ],
      "metadata": {
        "id": "7oaCOvwTzya3"
      },
      "execution_count": 12,
      "outputs": []
    },
    {
      "cell_type": "code",
      "source": [
        "print(df_eleicao)"
      ],
      "metadata": {
        "colab": {
          "base_uri": "https://localhost:8080/"
        },
        "id": "bL7GGt3m0fYJ",
        "outputId": "8a814007-424f-4a91-8c26-580bfeb5b53a"
      },
      "execution_count": 13,
      "outputs": [
        {
          "output_type": "stream",
          "name": "stdout",
          "text": [
            "      Candidato   N Votos Porcentagem\n",
            "0          LULA  19176442       44,02\n",
            "1  SIMONE TEBET   1980181        4,55\n",
            "2    CIRO GOMES   1336556        3,07\n",
            "3  PADRE KELMON     30360        0,07\n"
          ]
        }
      ]
    },
    {
      "cell_type": "code",
      "source": [],
      "metadata": {
        "id": "gfbVPAse0kbf"
      },
      "execution_count": null,
      "outputs": []
    },
    {
      "cell_type": "code",
      "source": [],
      "metadata": {
        "id": "Pr_iW_dn0XEI"
      },
      "execution_count": null,
      "outputs": []
    }
  ]
}