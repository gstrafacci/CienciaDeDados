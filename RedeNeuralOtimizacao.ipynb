{
  "nbformat": 4,
  "nbformat_minor": 0,
  "metadata": {
    "colab": {
      "provenance": [],
      "authorship_tag": "ABX9TyNEEA9l71miPe92x6hc6eTy",
      "include_colab_link": true
    },
    "kernelspec": {
      "name": "python3",
      "display_name": "Python 3"
    },
    "language_info": {
      "name": "python"
    }
  },
  "cells": [
    {
      "cell_type": "markdown",
      "metadata": {
        "id": "view-in-github",
        "colab_type": "text"
      },
      "source": [
        "<a href=\"https://colab.research.google.com/github/gstrafacci/CienciaDeDados/blob/main/RedeNeuralOtimizacao.ipynb\" target=\"_parent\"><img src=\"https://colab.research.google.com/assets/colab-badge.svg\" alt=\"Open In Colab\"/></a>"
      ]
    },
    {
      "cell_type": "code",
      "execution_count": 1,
      "metadata": {
        "id": "sYCClFpj0VMc"
      },
      "outputs": [],
      "source": [
        "import numpy as np\n",
        "import matplotlib.pyplot as plt\n"
      ]
    },
    {
      "cell_type": "code",
      "source": [
        "def relu(x):\n",
        "    return np.maximum(0, x)\n",
        "\n",
        "def relu_derivada(x):\n",
        "    return (x > 0).astype(float)\n"
      ],
      "metadata": {
        "id": "eXJ-DSZt0qCn"
      },
      "execution_count": 5,
      "outputs": []
    },
    {
      "cell_type": "code",
      "source": [
        "np.random.seed(0)\n",
        "pesos = np.random.randint(800, 2500, size=(100, 1))\n",
        "potencias = np.random.randint(60, 200, size=(100, 1))\n",
        "consumos = (pesos * 0.006 + potencias * 0.03).reshape(-1, 1)\n",
        "\n",
        "entradas = np.hstack((pesos, potencias))\n",
        "saidas = consumos\n"
      ],
      "metadata": {
        "id": "lWz1pdV-0rZ5"
      },
      "execution_count": 2,
      "outputs": []
    },
    {
      "cell_type": "code",
      "source": [
        "pesos0 = 2 * np.random.random((2, 4)) - 1\n",
        "pesos1 = 2 * np.random.random((4, 1)) - 1\n",
        "bias0 = np.random.random((1, 4))\n",
        "bias1 = np.random.random((1, 1))\n"
      ],
      "metadata": {
        "id": "I2CjKus10uZZ"
      },
      "execution_count": 3,
      "outputs": []
    },
    {
      "cell_type": "code",
      "source": [
        "taxa_aprendizado = 0.0001\n",
        "epocas = 20000\n",
        "\n",
        "for epoca in range(epocas):\n",
        "    # Propagação para frente (feedforward)\n",
        "    camada0 = entradas\n",
        "    camada1 = relu(np.dot(camada0, pesos0) + bias0)\n",
        "    camada2 = np.dot(camada1, pesos1) + bias1\n",
        "\n",
        "    # Cálculo do erro\n",
        "    erro_camada2 = saidas - camada2\n",
        "    if (epoca % 2000) == 0:\n",
        "        print(\"Erro na época {}: {}\".format(epoca, np.mean(np.abs(erro_camada2))))\n",
        "\n",
        "    # Backpropagation\n",
        "    delta_camada2 = erro_camada2\n",
        "    erro_camada1 = delta_camada2.dot(pesos1.T)\n",
        "    delta_camada1 = erro_camada1 * relu_derivada(camada1)\n",
        "\n",
        "    # Atualização dos pesos e bias\n",
        "    pesos1 += camada1.T.dot(delta_camada2) * taxa_aprendizado\n",
        "    pesos0 += camada0.T.dot(delta_camada1) * taxa_aprendizado\n",
        "    bias1 += np.sum(delta_camada2, axis=0) * taxa_aprendizado\n",
        "    bias0 += np.sum(delta_camada1, axis=0) * taxa_aprendizado\n"
      ],
      "metadata": {
        "colab": {
          "base_uri": "https://localhost:8080/"
        },
        "id": "IR4jFgO10wHA",
        "outputId": "190f96cd-48de-49ec-c265-018a16902124"
      },
      "execution_count": 6,
      "outputs": [
        {
          "output_type": "stream",
          "name": "stdout",
          "text": [
            "Erro na época 0: 290.8697275789628\n",
            "Erro na época 2000: 2.4867615260122506\n",
            "Erro na época 4000: 2.487541199987806\n",
            "Erro na época 6000: 2.487541199999998\n",
            "Erro na época 8000: 2.487541199999998\n",
            "Erro na época 10000: 2.487541199999998\n",
            "Erro na época 12000: 2.487541199999998\n",
            "Erro na época 14000: 2.487541199999998\n",
            "Erro na época 16000: 2.487541199999998\n",
            "Erro na época 18000: 2.487541199999998\n"
          ]
        }
      ]
    },
    {
      "cell_type": "code",
      "source": [
        "def testar_rede(entrada):\n",
        "    camada0 = entrada\n",
        "    camada1 = relu(np.dot(camada0, pesos0) + bias0)\n",
        "    camada2 = np.dot(camada1, pesos1) + bias1\n",
        "    return camada2\n",
        "\n",
        "entrada_teste = np.array([[1500, 100]])\n",
        "saida = testar_rede(entrada_teste)\n",
        "print(\"\\nEntrada: {} - Saída: {}\".format(entrada_teste, np.round(saida, 2)))\n"
      ],
      "metadata": {
        "colab": {
          "base_uri": "https://localhost:8080/"
        },
        "id": "vHityHZ10yNJ",
        "outputId": "9f70a716-adfe-48c0-ff73-0dc4974478b2"
      },
      "execution_count": 8,
      "outputs": [
        {
          "output_type": "stream",
          "name": "stdout",
          "text": [
            "\n",
            "Entrada: [[1500  100]] - Saída: [[13.45]]\n"
          ]
        }
      ]
    },
    {
      "cell_type": "code",
      "source": [
        "import numpy as np\n",
        "import tkinter as tk"
      ],
      "metadata": {
        "id": "eS5bmODg5mTa"
      },
      "execution_count": 10,
      "outputs": []
    },
    {
      "cell_type": "code",
      "source": [
        "# Função para calcular a previsão do consumo de combustível com base nos valores inseridos pelo usuário\n",
        "def calcular_consumo():\n",
        "    peso = float(entry_peso.get())\n",
        "    potencia = float(entry_potencia.get())\n",
        "\n",
        "    entrada_teste = np.array([[peso, potencia]])\n",
        "    saida = testar_rede(entrada_teste)\n",
        "    resultado_var.set(\"Consumo: {:.2f}\".format(saida[0, 0]))\n",
        "\n",
        "# Criar a janela principal\n",
        "janela = tk.Tk()\n",
        "janela.title(\"Previsão de Consumo de Combustível\")\n",
        "\n",
        "# Criar os campos de entrada e rótulos (labels)\n",
        "label_peso = tk.Label(janela, text=\"Peso do veículo (kg):\")\n",
        "label_peso.grid(row=0, column=0)\n",
        "entry_peso = tk.Entry(janela)\n",
        "entry_peso.grid(row=0, column=1)\n",
        "\n",
        "label_potencia = tk.Label(janela, text=\"Potência do motor (cv):\")\n",
        "label_potencia.grid(row=1, column=0)\n",
        "entry_potencia = tk.Entry(janela)\n",
        "entry_potencia.grid(row=1, column=1)\n",
        "\n",
        "# Criar o botão para calcular a previsão\n",
        "botao_calcular = tk.Button(janela, text=\"Calcular Consumo\", command=calcular_consumo)\n",
        "botao_calcular.grid(row=2, column=0, columnspan=2)\n",
        "\n",
        "# Criar o rótulo (label) para exibir o resultado\n",
        "resultado_var = tk.StringVar()\n",
        "label_resultado = tk.Label(janela, textvariable=resultado_var)\n",
        "label_resultado.grid(row=3, column=0, columnspan=2)\n",
        "\n",
        "# Iniciar o loop principal da interface gráfica\n",
        "janela.mainloop()"
      ],
      "metadata": {
        "colab": {
          "base_uri": "https://localhost:8080/",
          "height": 356
        },
        "id": "8TUJGi985uTU",
        "outputId": "8644c4f8-4cd8-4fcb-9a1c-cee915e9f686"
      },
      "execution_count": 11,
      "outputs": [
        {
          "output_type": "error",
          "ename": "TclError",
          "evalue": "ignored",
          "traceback": [
            "\u001b[0;31m---------------------------------------------------------------------------\u001b[0m",
            "\u001b[0;31mTclError\u001b[0m                                  Traceback (most recent call last)",
            "\u001b[0;32m<ipython-input-11-af0552617196>\u001b[0m in \u001b[0;36m<cell line: 11>\u001b[0;34m()\u001b[0m\n\u001b[1;32m      9\u001b[0m \u001b[0;34m\u001b[0m\u001b[0m\n\u001b[1;32m     10\u001b[0m \u001b[0;31m# Criar a janela principal\u001b[0m\u001b[0;34m\u001b[0m\u001b[0;34m\u001b[0m\u001b[0m\n\u001b[0;32m---> 11\u001b[0;31m \u001b[0mjanela\u001b[0m \u001b[0;34m=\u001b[0m \u001b[0mtk\u001b[0m\u001b[0;34m.\u001b[0m\u001b[0mTk\u001b[0m\u001b[0;34m(\u001b[0m\u001b[0;34m)\u001b[0m\u001b[0;34m\u001b[0m\u001b[0;34m\u001b[0m\u001b[0m\n\u001b[0m\u001b[1;32m     12\u001b[0m \u001b[0mjanela\u001b[0m\u001b[0;34m.\u001b[0m\u001b[0mtitle\u001b[0m\u001b[0;34m(\u001b[0m\u001b[0;34m\"Previsão de Consumo de Combustível\"\u001b[0m\u001b[0;34m)\u001b[0m\u001b[0;34m\u001b[0m\u001b[0;34m\u001b[0m\u001b[0m\n\u001b[1;32m     13\u001b[0m \u001b[0;34m\u001b[0m\u001b[0m\n",
            "\u001b[0;32m/usr/lib/python3.9/tkinter/__init__.py\u001b[0m in \u001b[0;36m__init__\u001b[0;34m(self, screenName, baseName, className, useTk, sync, use)\u001b[0m\n\u001b[1;32m   2268\u001b[0m                 \u001b[0mbaseName\u001b[0m \u001b[0;34m=\u001b[0m \u001b[0mbaseName\u001b[0m \u001b[0;34m+\u001b[0m \u001b[0mext\u001b[0m\u001b[0;34m\u001b[0m\u001b[0;34m\u001b[0m\u001b[0m\n\u001b[1;32m   2269\u001b[0m         \u001b[0minteractive\u001b[0m \u001b[0;34m=\u001b[0m \u001b[0;32mFalse\u001b[0m\u001b[0;34m\u001b[0m\u001b[0;34m\u001b[0m\u001b[0m\n\u001b[0;32m-> 2270\u001b[0;31m         \u001b[0mself\u001b[0m\u001b[0;34m.\u001b[0m\u001b[0mtk\u001b[0m \u001b[0;34m=\u001b[0m \u001b[0m_tkinter\u001b[0m\u001b[0;34m.\u001b[0m\u001b[0mcreate\u001b[0m\u001b[0;34m(\u001b[0m\u001b[0mscreenName\u001b[0m\u001b[0;34m,\u001b[0m \u001b[0mbaseName\u001b[0m\u001b[0;34m,\u001b[0m \u001b[0mclassName\u001b[0m\u001b[0;34m,\u001b[0m \u001b[0minteractive\u001b[0m\u001b[0;34m,\u001b[0m \u001b[0mwantobjects\u001b[0m\u001b[0;34m,\u001b[0m \u001b[0museTk\u001b[0m\u001b[0;34m,\u001b[0m \u001b[0msync\u001b[0m\u001b[0;34m,\u001b[0m \u001b[0muse\u001b[0m\u001b[0;34m)\u001b[0m\u001b[0;34m\u001b[0m\u001b[0;34m\u001b[0m\u001b[0m\n\u001b[0m\u001b[1;32m   2271\u001b[0m         \u001b[0;32mif\u001b[0m \u001b[0museTk\u001b[0m\u001b[0;34m:\u001b[0m\u001b[0;34m\u001b[0m\u001b[0;34m\u001b[0m\u001b[0m\n\u001b[1;32m   2272\u001b[0m             \u001b[0mself\u001b[0m\u001b[0;34m.\u001b[0m\u001b[0m_loadtk\u001b[0m\u001b[0;34m(\u001b[0m\u001b[0;34m)\u001b[0m\u001b[0;34m\u001b[0m\u001b[0;34m\u001b[0m\u001b[0m\n",
            "\u001b[0;31mTclError\u001b[0m: no display name and no $DISPLAY environment variable"
          ]
        }
      ]
    }
  ]
}